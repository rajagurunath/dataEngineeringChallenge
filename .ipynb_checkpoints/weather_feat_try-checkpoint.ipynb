{
 "cells": [
  {
   "cell_type": "code",
   "execution_count": 1,
   "metadata": {},
   "outputs": [],
   "source": [
    "import pandas as pd \n",
    "import numpy as np \n",
    "import glob \n",
    "\n",
    "DIR=\"D:\\experiments\\dataEngineering\\input_data\\\\\"\n",
    "weather_file_list=glob.glob(DIR+\"weather\\*.parquet\")\n",
    "\n",
    "def read_files(file_list):\n",
    "    return pd.concat([pd.read_parquet(f) for f in file_list])\n"
   ]
  },
  {
   "cell_type": "code",
   "execution_count": 2,
   "metadata": {},
   "outputs": [],
   "source": [
    "#df=read_files(weather_file_list)\n",
    "df=pd.read_parquet(weather_file_list[0])"
   ]
  },
  {
   "cell_type": "code",
   "execution_count": 3,
   "metadata": {},
   "outputs": [
    {
     "data": {
      "text/html": [
       "<div>\n",
       "<style scoped>\n",
       "    .dataframe tbody tr th:only-of-type {\n",
       "        vertical-align: middle;\n",
       "    }\n",
       "\n",
       "    .dataframe tbody tr th {\n",
       "        vertical-align: top;\n",
       "    }\n",
       "\n",
       "    .dataframe thead th {\n",
       "        text-align: right;\n",
       "    }\n",
       "</style>\n",
       "<table border=\"1\" class=\"dataframe\">\n",
       "  <thead>\n",
       "    <tr style=\"text-align: right;\">\n",
       "      <th></th>\n",
       "      <th>x</th>\n",
       "      <th>y</th>\n",
       "      <th>date</th>\n",
       "      <th>time</th>\n",
       "      <th>lat</th>\n",
       "      <th>lon</th>\n",
       "      <th>temperature_data</th>\n",
       "      <th>temperature_unit</th>\n",
       "      <th>precipitation_data</th>\n",
       "      <th>precipitation_unit</th>\n",
       "      <th>wind_ew_data</th>\n",
       "      <th>wind_ew_unit</th>\n",
       "      <th>wind_ns_data</th>\n",
       "      <th>wind_ns_unit</th>\n",
       "    </tr>\n",
       "  </thead>\n",
       "  <tbody>\n",
       "    <tr>\n",
       "      <th>0</th>\n",
       "      <td>85</td>\n",
       "      <td>55</td>\n",
       "      <td>2017-02-15</td>\n",
       "      <td>11Z</td>\n",
       "      <td>31.9375</td>\n",
       "      <td>-114.3125</td>\n",
       "      <td>286.430000</td>\n",
       "      <td>k</td>\n",
       "      <td>0.000000</td>\n",
       "      <td>kg/m^2</td>\n",
       "      <td>1.620000</td>\n",
       "      <td>m/s</td>\n",
       "      <td>-2.720000</td>\n",
       "      <td>m/s</td>\n",
       "    </tr>\n",
       "    <tr>\n",
       "      <th>1</th>\n",
       "      <td>191</td>\n",
       "      <td>38</td>\n",
       "      <td>2017-02-23</td>\n",
       "      <td>21Z</td>\n",
       "      <td>29.8125</td>\n",
       "      <td>-101.0625</td>\n",
       "      <td>304.960000</td>\n",
       "      <td>k</td>\n",
       "      <td>0.000000</td>\n",
       "      <td>kg/m^2</td>\n",
       "      <td>4.360000</td>\n",
       "      <td>m/s</td>\n",
       "      <td>0.580000</td>\n",
       "      <td>m/s</td>\n",
       "    </tr>\n",
       "    <tr>\n",
       "      <th>2</th>\n",
       "      <td>258</td>\n",
       "      <td>60</td>\n",
       "      <td>2017-02-27</td>\n",
       "      <td>16Z</td>\n",
       "      <td>32.5625</td>\n",
       "      <td>-92.6875</td>\n",
       "      <td>287.590000</td>\n",
       "      <td>k</td>\n",
       "      <td>2.450000</td>\n",
       "      <td>kg/m^2</td>\n",
       "      <td>-3.910000</td>\n",
       "      <td>m/s</td>\n",
       "      <td>-1.110000</td>\n",
       "      <td>m/s</td>\n",
       "    </tr>\n",
       "    <tr>\n",
       "      <th>3</th>\n",
       "      <td>113</td>\n",
       "      <td>55</td>\n",
       "      <td>2017-01-25</td>\n",
       "      <td>07Z</td>\n",
       "      <td>31.9375</td>\n",
       "      <td>-110.8125</td>\n",
       "      <td>277.800000</td>\n",
       "      <td>k</td>\n",
       "      <td>0.000000</td>\n",
       "      <td>kg/m^2</td>\n",
       "      <td>2.400000</td>\n",
       "      <td>m/s</td>\n",
       "      <td>-1.440000</td>\n",
       "      <td>m/s</td>\n",
       "    </tr>\n",
       "    <tr>\n",
       "      <th>4</th>\n",
       "      <td>304</td>\n",
       "      <td>55</td>\n",
       "      <td>2017-02-03</td>\n",
       "      <td>21Z</td>\n",
       "      <td>31.9375</td>\n",
       "      <td>-86.9375</td>\n",
       "      <td>286.010000</td>\n",
       "      <td>k</td>\n",
       "      <td>0.000000</td>\n",
       "      <td>kg/m^2</td>\n",
       "      <td>2.050000</td>\n",
       "      <td>m/s</td>\n",
       "      <td>-5.160000</td>\n",
       "      <td>m/s</td>\n",
       "    </tr>\n",
       "  </tbody>\n",
       "</table>\n",
       "</div>"
      ],
      "text/plain": [
       "     x   y        date time      lat       lon temperature_data  \\\n",
       "0   85  55  2017-02-15  11Z  31.9375 -114.3125       286.430000   \n",
       "1  191  38  2017-02-23  21Z  29.8125 -101.0625       304.960000   \n",
       "2  258  60  2017-02-27  16Z  32.5625  -92.6875       287.590000   \n",
       "3  113  55  2017-01-25  07Z  31.9375 -110.8125       277.800000   \n",
       "4  304  55  2017-02-03  21Z  31.9375  -86.9375       286.010000   \n",
       "\n",
       "  temperature_unit precipitation_data precipitation_unit wind_ew_data  \\\n",
       "0                k           0.000000             kg/m^2     1.620000   \n",
       "1                k           0.000000             kg/m^2     4.360000   \n",
       "2                k           2.450000             kg/m^2    -3.910000   \n",
       "3                k           0.000000             kg/m^2     2.400000   \n",
       "4                k           0.000000             kg/m^2     2.050000   \n",
       "\n",
       "  wind_ew_unit wind_ns_data wind_ns_unit  \n",
       "0          m/s    -2.720000          m/s  \n",
       "1          m/s     0.580000          m/s  \n",
       "2          m/s    -1.110000          m/s  \n",
       "3          m/s    -1.440000          m/s  \n",
       "4          m/s    -5.160000          m/s  "
      ]
     },
     "execution_count": 3,
     "metadata": {},
     "output_type": "execute_result"
    }
   ],
   "source": [
    "df.head()"
   ]
  },
  {
   "cell_type": "code",
   "execution_count": 15,
   "metadata": {},
   "outputs": [
    {
     "data": {
      "text/plain": [
       "DatetimeIndex(['2017-02-15 11:00:00+00:00', '2017-02-23 21:00:00+00:00',\n",
       "               '2017-02-27 16:00:00+00:00', '2017-01-25 07:00:00+00:00',\n",
       "               '2017-02-03 21:00:00+00:00', '2017-01-08 03:00:00+00:00',\n",
       "               '2017-02-18 09:00:00+00:00', '2017-02-13 03:00:00+00:00',\n",
       "               '2017-01-12 02:00:00+00:00', '2017-01-12 09:00:00+00:00',\n",
       "               ...\n",
       "               '2017-01-17 05:00:00+00:00', '2017-02-26 06:00:00+00:00',\n",
       "               '2017-01-18 02:00:00+00:00', '2017-02-04 05:00:00+00:00',\n",
       "               '2017-02-01 05:00:00+00:00', '2017-02-28 12:00:00+00:00',\n",
       "               '2017-02-22 01:00:00+00:00', '2017-01-02 04:00:00+00:00',\n",
       "               '2017-02-16 00:00:00+00:00', '2017-01-10 15:00:00+00:00'],\n",
       "              dtype='datetime64[ns, UTC]', length=53015, freq=None)"
      ]
     },
     "execution_count": 15,
     "metadata": {},
     "output_type": "execute_result"
    }
   ],
   "source": [
    "pd.DatetimeIndex(df['date'].astype(\"str\")+\" \"+df['time'])"
   ]
  },
  {
   "cell_type": "markdown",
   "metadata": {},
   "source": [
    "df.shape\n",
    "df_orig=df.copy()"
   ]
  },
  {
   "cell_type": "markdown",
   "metadata": {},
   "source": [
    "\n",
    "df=df_orig.iloc[:10000]"
   ]
  },
  {
   "cell_type": "code",
   "execution_count": 3,
   "metadata": {},
   "outputs": [
    {
     "data": {
      "text/plain": [
       "k    53015\n",
       "Name: temperature_unit, dtype: int64"
      ]
     },
     "execution_count": 3,
     "metadata": {},
     "output_type": "execute_result"
    }
   ],
   "source": [
    "df['temperature_unit'].value_counts()"
   ]
  },
  {
   "cell_type": "code",
   "execution_count": 4,
   "metadata": {},
   "outputs": [
    {
     "data": {
      "text/plain": [
       "kg/m^2    53015\n",
       "Name: precipitation_unit, dtype: int64"
      ]
     },
     "execution_count": 4,
     "metadata": {},
     "output_type": "execute_result"
    }
   ],
   "source": [
    "df['precipitation_unit'].value_counts()"
   ]
  },
  {
   "cell_type": "code",
   "execution_count": 27,
   "metadata": {},
   "outputs": [],
   "source": [
    "def k_to_f(k):\n",
    "    return (((k-273)*9)/5)+32"
   ]
  },
  {
   "cell_type": "code",
   "execution_count": 28,
   "metadata": {},
   "outputs": [],
   "source": [
    "df[\"temp_f\"]=df['temperature_data'].apply(k_to_f)"
   ]
  },
  {
   "cell_type": "code",
   "execution_count": 29,
   "metadata": {},
   "outputs": [
    {
     "data": {
      "text/plain": [
       "x                                          int64\n",
       "y                                          int64\n",
       "date                                      object\n",
       "time                                      object\n",
       "lat                                      float64\n",
       "lon                                      float64\n",
       "temperature_data                          object\n",
       "temperature_unit                          object\n",
       "precipitation_data                        object\n",
       "precipitation_unit                        object\n",
       "wind_ew_data                              object\n",
       "wind_ew_unit                              object\n",
       "wind_ns_data                              object\n",
       "wind_ns_unit                              object\n",
       "datetime              datetime64[ns, US/Pacific]\n",
       "temp_f                                    object\n",
       "dtype: object"
      ]
     },
     "execution_count": 29,
     "metadata": {},
     "output_type": "execute_result"
    }
   ],
   "source": [
    "df.dtypes"
   ]
  },
  {
   "cell_type": "markdown",
   "metadata": {},
   "source": [
    "![](IMG/weather_features1.png)\n",
    "![](IMG/weather_features11.png)"
   ]
  },
  {
   "cell_type": "markdown",
   "metadata": {},
   "source": [
    "![](IMG/weather_features.png)"
   ]
  },
  {
   "cell_type": "markdown",
   "metadata": {},
   "source": [
    "- snow\n",
    "- freezing_rain\n",
    "- rain"
   ]
  },
  {
   "cell_type": "code",
   "execution_count": 42,
   "metadata": {},
   "outputs": [],
   "source": [
    "from math import radians, cos, sin, asin, sqrt\n",
    "\n",
    "def haversine(lon1, lat1, lon2, lat2):\n",
    "    \"\"\"\n",
    "    Calculate the great circle distance between two points \n",
    "    on the earth (specified in decimal degrees)\n",
    "    \"\"\"\n",
    "    # convert decimal degrees to radians \n",
    "    lon1, lat1, lon2, lat2 = map(radians, [lon1, lat1, lon2, lat2])\n",
    "\n",
    "    # haversine formula \n",
    "    dlon = lon2 - lon1 \n",
    "    dlat = lat2 - lat1 \n",
    "    a = sin(dlat/2)**2 + cos(lat1) * cos(lat2) * sin(dlon/2)**2\n",
    "    c = 2 * asin(sqrt(a)) \n",
    "    r = 6371 # Radius of earth in kilometers. Use 3956 for miles\n",
    "    return c * r\n"
   ]
  },
  {
   "cell_type": "code",
   "execution_count": 4,
   "metadata": {},
   "outputs": [],
   "source": [
    "trip_file_list=glob.glob(DIR+\"trip\\*.parquet\")"
   ]
  },
  {
   "cell_type": "code",
   "execution_count": 5,
   "metadata": {},
   "outputs": [],
   "source": [
    "trip=pd.read_parquet(trip_file_list[0])"
   ]
  },
  {
   "cell_type": "code",
   "execution_count": 24,
   "metadata": {},
   "outputs": [],
   "source": [
    "trip['datetime']=trip['datetime'].dt.tz_localize(\"US/Pacific\")"
   ]
  },
  {
   "cell_type": "code",
   "execution_count": 23,
   "metadata": {},
   "outputs": [],
   "source": [
    "df['datetime']=pd.to_datetime(df['date'].astype(\"str\")+\" \"+df['time'])\n",
    "df['datetime']=df['datetime'].dt.tz_convert(\"US/Pacific\")\n"
   ]
  },
  {
   "cell_type": "code",
   "execution_count": 53,
   "metadata": {},
   "outputs": [
    {
     "data": {
      "text/plain": [
       "(vehicle_id                         int64\n",
       " trip_id                           object\n",
       " datetime      datetime64[ns, US/Pacific]\n",
       " lat                              float64\n",
       " lon                              float64\n",
       " velocity                         float64\n",
       " dtype: object, x                                          int64\n",
       " y                                          int64\n",
       " date                                      object\n",
       " time                                      object\n",
       " lat                                      float64\n",
       " lon                                      float64\n",
       " temperature_data                          object\n",
       " temperature_unit                          object\n",
       " precipitation_data                        object\n",
       " precipitation_unit                        object\n",
       " wind_ew_data                              object\n",
       " wind_ew_unit                              object\n",
       " wind_ns_data                              object\n",
       " wind_ns_unit                              object\n",
       " datetime              datetime64[ns, US/Pacific]\n",
       " temp_f                                    object\n",
       " dtype: object)"
      ]
     },
     "execution_count": 53,
     "metadata": {},
     "output_type": "execute_result"
    }
   ],
   "source": [
    "trip.rename(columns={'long':'lon'}).dtypes,df.dtypes"
   ]
  },
  {
   "cell_type": "code",
   "execution_count": 56,
   "metadata": {},
   "outputs": [],
   "source": [
    "trip=trip.rename(columns={'long':'lon'})"
   ]
  },
  {
   "cell_type": "code",
   "execution_count": 58,
   "metadata": {},
   "outputs": [],
   "source": [
    "merged=df.merge(trip,on=['datetime','lon','lat'])"
   ]
  },
  {
   "cell_type": "code",
   "execution_count": 59,
   "metadata": {},
   "outputs": [
    {
     "data": {
      "text/plain": [
       "x                                          int64\n",
       "y                                          int64\n",
       "date                                      object\n",
       "time                                      object\n",
       "lat                                      float64\n",
       "lon                                      float64\n",
       "temperature_data                          object\n",
       "temperature_unit                          object\n",
       "precipitation_data                        object\n",
       "precipitation_unit                        object\n",
       "wind_ew_data                              object\n",
       "wind_ew_unit                              object\n",
       "wind_ns_data                              object\n",
       "wind_ns_unit                              object\n",
       "datetime              datetime64[ns, US/Pacific]\n",
       "temp_f                                    object\n",
       "vehicle_id                                 int64\n",
       "trip_id                                   object\n",
       "velocity                                 float64\n",
       "dtype: object"
      ]
     },
     "execution_count": 59,
     "metadata": {},
     "output_type": "execute_result"
    }
   ],
   "source": [
    "merged.dtypes"
   ]
  },
  {
   "cell_type": "code",
   "execution_count": 33,
   "metadata": {},
   "outputs": [],
   "source": [
    "merged[\"snow\"]=merged['temp_f']<=27"
   ]
  },
  {
   "cell_type": "code",
   "execution_count": 35,
   "metadata": {},
   "outputs": [],
   "source": [
    "merged[\"freeze_rain\"]=(merged[\"temp_f\"]>27)&(merged[\"temp_f\"]<=32)"
   ]
  },
  {
   "cell_type": "code",
   "execution_count": 36,
   "metadata": {},
   "outputs": [],
   "source": [
    "merged[\"rain\"]=merged[\"temp_f\"]>32"
   ]
  },
  {
   "cell_type": "code",
   "execution_count": 38,
   "metadata": {},
   "outputs": [],
   "source": [
    "merged[\"light\"]=(merged[\"precipitation_data\"]>0)&(merged[\"precipitation_data\"]<=2.5)"
   ]
  },
  {
   "cell_type": "code",
   "execution_count": 40,
   "metadata": {},
   "outputs": [],
   "source": [
    "merged[\"moderate\"]=(merged[\"precipitation_data\"]>2.5)&(merged[\"precipitation_data\"]<=7.6)"
   ]
  },
  {
   "cell_type": "code",
   "execution_count": 39,
   "metadata": {},
   "outputs": [],
   "source": [
    "merged[\"heavy\"]=(merged[\"precipitation_data\"]>7.6)"
   ]
  },
  {
   "cell_type": "code",
   "execution_count": 88,
   "metadata": {},
   "outputs": [],
   "source": [
    "merged[\"snow\"]=merged['temp_f']<=27\n",
    "merged[\"freeze_rain\"]=(merged[\"temp_f\"]>27)&(merged[\"temp_f\"]<=32)\n",
    "merged[\"rain\"]=merged[\"temp_f\"]>32\n",
    "merged[\"light\"]=(merged[\"precipitation_data\"]>0)&(merged[\"precipitation_data\"]<=2.5)\n",
    "merged[\"moderate\"]=(merged[\"precipitation_data\"]>2.5)&(merged[\"precipitation_data\"]<=7.6)\n",
    "merged[\"heavy\"]=(merged[\"precipitation_data\"]>7.6)"
   ]
  },
  {
   "cell_type": "code",
   "execution_count": 41,
   "metadata": {},
   "outputs": [
    {
     "data": {
      "text/plain": [
       "x                                          int64\n",
       "y                                          int64\n",
       "date                                      object\n",
       "time                                      object\n",
       "lat_x                                    float64\n",
       "lon                                      float64\n",
       "temperature_data                          object\n",
       "temperature_unit                          object\n",
       "precipitation_data                        object\n",
       "precipitation_unit                        object\n",
       "wind_ew_data                              object\n",
       "wind_ew_unit                              object\n",
       "wind_ns_data                              object\n",
       "wind_ns_unit                              object\n",
       "datetime              datetime64[ns, US/Pacific]\n",
       "temp_f                                    object\n",
       "vehicle_id                                 int64\n",
       "trip_id                                   object\n",
       "lat_y                                    float64\n",
       "long                                     float64\n",
       "velocity                                 float64\n",
       "snow                                        bool\n",
       "freeze_rain                                 bool\n",
       "rain                                        bool\n",
       "light                                       bool\n",
       "heavy                                       bool\n",
       "moderate                                    bool\n",
       "dtype: object"
      ]
     },
     "execution_count": 41,
     "metadata": {},
     "output_type": "execute_result"
    }
   ],
   "source": [
    "merged.dtypes"
   ]
  },
  {
   "cell_type": "code",
   "execution_count": 60,
   "metadata": {},
   "outputs": [
    {
     "data": {
      "text/html": [
       "<div>\n",
       "<style scoped>\n",
       "    .dataframe tbody tr th:only-of-type {\n",
       "        vertical-align: middle;\n",
       "    }\n",
       "\n",
       "    .dataframe tbody tr th {\n",
       "        vertical-align: top;\n",
       "    }\n",
       "\n",
       "    .dataframe thead th {\n",
       "        text-align: right;\n",
       "    }\n",
       "</style>\n",
       "<table border=\"1\" class=\"dataframe\">\n",
       "  <thead>\n",
       "    <tr style=\"text-align: right;\">\n",
       "      <th></th>\n",
       "      <th>x</th>\n",
       "      <th>y</th>\n",
       "      <th>date</th>\n",
       "      <th>time</th>\n",
       "      <th>lat</th>\n",
       "      <th>lon</th>\n",
       "      <th>temperature_data</th>\n",
       "      <th>temperature_unit</th>\n",
       "      <th>precipitation_data</th>\n",
       "      <th>precipitation_unit</th>\n",
       "      <th>wind_ew_data</th>\n",
       "      <th>wind_ew_unit</th>\n",
       "      <th>wind_ns_data</th>\n",
       "      <th>wind_ns_unit</th>\n",
       "      <th>datetime</th>\n",
       "      <th>temp_f</th>\n",
       "      <th>vehicle_id</th>\n",
       "      <th>trip_id</th>\n",
       "      <th>velocity</th>\n",
       "    </tr>\n",
       "  </thead>\n",
       "  <tbody>\n",
       "  </tbody>\n",
       "</table>\n",
       "</div>"
      ],
      "text/plain": [
       "Empty DataFrame\n",
       "Columns: [x, y, date, time, lat, lon, temperature_data, temperature_unit, precipitation_data, precipitation_unit, wind_ew_data, wind_ew_unit, wind_ns_data, wind_ns_unit, datetime, temp_f, vehicle_id, trip_id, velocity]\n",
       "Index: []"
      ]
     },
     "execution_count": 60,
     "metadata": {},
     "output_type": "execute_result"
    }
   ],
   "source": [
    "merged.head(5)"
   ]
  },
  {
   "cell_type": "code",
   "execution_count": null,
   "metadata": {},
   "outputs": [],
   "source": [
    "def calculate_distance(df):\n",
    "    maxidx=df[\"datetime\"].max().index\n",
    "    minidx=df[\"datetime\"].min().index\n",
    "    df.iloc[maxidx,'lo']"
   ]
  },
  {
   "cell_type": "code",
   "execution_count": 63,
   "metadata": {},
   "outputs": [],
   "source": [
    "def haversine_np(lon1, lat1, lon2, lat2):\n",
    "    \"\"\"\n",
    "    Calculate the great circle distance between two points\n",
    "    on the earth (specified in decimal degrees)\n",
    "\n",
    "    All args must be of equal length.    \n",
    "\n",
    "    \"\"\"\n",
    "    lon1, lat1, lon2, lat2 = map(np.radians, [lon1, lat1, lon2, lat2])\n",
    "\n",
    "    dlon = lon2 - lon1\n",
    "    dlat = lat2 - lat1\n",
    "\n",
    "    a = np.sin(dlat/2.0)**2 + np.cos(lat1) * np.cos(lat2) * np.sin(dlon/2.0)**2\n",
    "\n",
    "    c = 2 * np.arcsin(np.sqrt(a))\n",
    "    km = 6367 * c\n",
    "    return km\n",
    "\n",
    "df['tmp'] = 1\n",
    "merged1 = pd.merge(df,trip,on='datetime')\n",
    "#print (df)\n",
    "\n",
    "merged1['dist'] = haversine_np(merged1['lon_x'],merged1['lat_x'],merged1['lon_y'],merged1['lat_y'])\n"
   ]
  },
  {
   "cell_type": "code",
   "execution_count": 64,
   "metadata": {},
   "outputs": [
    {
     "data": {
      "text/html": [
       "<div>\n",
       "<style scoped>\n",
       "    .dataframe tbody tr th:only-of-type {\n",
       "        vertical-align: middle;\n",
       "    }\n",
       "\n",
       "    .dataframe tbody tr th {\n",
       "        vertical-align: top;\n",
       "    }\n",
       "\n",
       "    .dataframe thead th {\n",
       "        text-align: right;\n",
       "    }\n",
       "</style>\n",
       "<table border=\"1\" class=\"dataframe\">\n",
       "  <thead>\n",
       "    <tr style=\"text-align: right;\">\n",
       "      <th></th>\n",
       "      <th>x</th>\n",
       "      <th>y</th>\n",
       "      <th>date</th>\n",
       "      <th>time</th>\n",
       "      <th>lat_x</th>\n",
       "      <th>lon_x</th>\n",
       "      <th>temperature_data</th>\n",
       "      <th>temperature_unit</th>\n",
       "      <th>precipitation_data</th>\n",
       "      <th>precipitation_unit</th>\n",
       "      <th>...</th>\n",
       "      <th>wind_ns_unit</th>\n",
       "      <th>datetime</th>\n",
       "      <th>temp_f</th>\n",
       "      <th>tmp</th>\n",
       "      <th>vehicle_id</th>\n",
       "      <th>trip_id</th>\n",
       "      <th>lat_y</th>\n",
       "      <th>lon_y</th>\n",
       "      <th>velocity</th>\n",
       "      <th>dist</th>\n",
       "    </tr>\n",
       "  </thead>\n",
       "  <tbody>\n",
       "    <tr>\n",
       "      <th>0</th>\n",
       "      <td>277</td>\n",
       "      <td>38</td>\n",
       "      <td>2017-02-06</td>\n",
       "      <td>01Z</td>\n",
       "      <td>29.8125</td>\n",
       "      <td>-90.3125</td>\n",
       "      <td>292.550000</td>\n",
       "      <td>k</td>\n",
       "      <td>0.000000</td>\n",
       "      <td>kg/m^2</td>\n",
       "      <td>...</td>\n",
       "      <td>m/s</td>\n",
       "      <td>2017-02-05 17:00:00-08:00</td>\n",
       "      <td>67.190000</td>\n",
       "      <td>1</td>\n",
       "      <td>1000510</td>\n",
       "      <td>70e92956738446a09fa738fd200b70c6</td>\n",
       "      <td>29.8125</td>\n",
       "      <td>-114.0625</td>\n",
       "      <td>72.33</td>\n",
       "      <td>2285.835959</td>\n",
       "    </tr>\n",
       "    <tr>\n",
       "      <th>1</th>\n",
       "      <td>277</td>\n",
       "      <td>38</td>\n",
       "      <td>2017-02-06</td>\n",
       "      <td>01Z</td>\n",
       "      <td>29.8125</td>\n",
       "      <td>-90.3125</td>\n",
       "      <td>292.550000</td>\n",
       "      <td>k</td>\n",
       "      <td>0.000000</td>\n",
       "      <td>kg/m^2</td>\n",
       "      <td>...</td>\n",
       "      <td>m/s</td>\n",
       "      <td>2017-02-05 17:00:00-08:00</td>\n",
       "      <td>67.190000</td>\n",
       "      <td>1</td>\n",
       "      <td>1000510</td>\n",
       "      <td>2d7090b4bb0c40289848a56eba31b3a8</td>\n",
       "      <td>28.8125</td>\n",
       "      <td>-113.0625</td>\n",
       "      <td>40.83</td>\n",
       "      <td>2203.642980</td>\n",
       "    </tr>\n",
       "    <tr>\n",
       "      <th>2</th>\n",
       "      <td>277</td>\n",
       "      <td>38</td>\n",
       "      <td>2017-02-06</td>\n",
       "      <td>01Z</td>\n",
       "      <td>29.8125</td>\n",
       "      <td>-90.3125</td>\n",
       "      <td>292.550000</td>\n",
       "      <td>k</td>\n",
       "      <td>0.000000</td>\n",
       "      <td>kg/m^2</td>\n",
       "      <td>...</td>\n",
       "      <td>m/s</td>\n",
       "      <td>2017-02-05 17:00:00-08:00</td>\n",
       "      <td>67.190000</td>\n",
       "      <td>1</td>\n",
       "      <td>1000506</td>\n",
       "      <td>0a258f42659240bd936e5da48e0afb7e</td>\n",
       "      <td>28.8125</td>\n",
       "      <td>-113.0625</td>\n",
       "      <td>59.68</td>\n",
       "      <td>2203.642980</td>\n",
       "    </tr>\n",
       "    <tr>\n",
       "      <th>3</th>\n",
       "      <td>338</td>\n",
       "      <td>32</td>\n",
       "      <td>2017-02-06</td>\n",
       "      <td>01Z</td>\n",
       "      <td>29.0625</td>\n",
       "      <td>-82.6875</td>\n",
       "      <td>291.110000</td>\n",
       "      <td>k</td>\n",
       "      <td>0.000000</td>\n",
       "      <td>kg/m^2</td>\n",
       "      <td>...</td>\n",
       "      <td>m/s</td>\n",
       "      <td>2017-02-05 17:00:00-08:00</td>\n",
       "      <td>64.598000</td>\n",
       "      <td>1</td>\n",
       "      <td>1000510</td>\n",
       "      <td>70e92956738446a09fa738fd200b70c6</td>\n",
       "      <td>29.8125</td>\n",
       "      <td>-114.0625</td>\n",
       "      <td>72.33</td>\n",
       "      <td>3028.146730</td>\n",
       "    </tr>\n",
       "    <tr>\n",
       "      <th>4</th>\n",
       "      <td>338</td>\n",
       "      <td>32</td>\n",
       "      <td>2017-02-06</td>\n",
       "      <td>01Z</td>\n",
       "      <td>29.0625</td>\n",
       "      <td>-82.6875</td>\n",
       "      <td>291.110000</td>\n",
       "      <td>k</td>\n",
       "      <td>0.000000</td>\n",
       "      <td>kg/m^2</td>\n",
       "      <td>...</td>\n",
       "      <td>m/s</td>\n",
       "      <td>2017-02-05 17:00:00-08:00</td>\n",
       "      <td>64.598000</td>\n",
       "      <td>1</td>\n",
       "      <td>1000510</td>\n",
       "      <td>2d7090b4bb0c40289848a56eba31b3a8</td>\n",
       "      <td>28.8125</td>\n",
       "      <td>-113.0625</td>\n",
       "      <td>40.83</td>\n",
       "      <td>2945.853808</td>\n",
       "    </tr>\n",
       "  </tbody>\n",
       "</table>\n",
       "<p>5 rows × 23 columns</p>\n",
       "</div>"
      ],
      "text/plain": [
       "     x   y        date time    lat_x    lon_x temperature_data  \\\n",
       "0  277  38  2017-02-06  01Z  29.8125 -90.3125       292.550000   \n",
       "1  277  38  2017-02-06  01Z  29.8125 -90.3125       292.550000   \n",
       "2  277  38  2017-02-06  01Z  29.8125 -90.3125       292.550000   \n",
       "3  338  32  2017-02-06  01Z  29.0625 -82.6875       291.110000   \n",
       "4  338  32  2017-02-06  01Z  29.0625 -82.6875       291.110000   \n",
       "\n",
       "  temperature_unit precipitation_data precipitation_unit  ... wind_ns_unit  \\\n",
       "0                k           0.000000             kg/m^2  ...          m/s   \n",
       "1                k           0.000000             kg/m^2  ...          m/s   \n",
       "2                k           0.000000             kg/m^2  ...          m/s   \n",
       "3                k           0.000000             kg/m^2  ...          m/s   \n",
       "4                k           0.000000             kg/m^2  ...          m/s   \n",
       "\n",
       "                   datetime     temp_f tmp vehicle_id  \\\n",
       "0 2017-02-05 17:00:00-08:00  67.190000   1    1000510   \n",
       "1 2017-02-05 17:00:00-08:00  67.190000   1    1000510   \n",
       "2 2017-02-05 17:00:00-08:00  67.190000   1    1000506   \n",
       "3 2017-02-05 17:00:00-08:00  64.598000   1    1000510   \n",
       "4 2017-02-05 17:00:00-08:00  64.598000   1    1000510   \n",
       "\n",
       "                            trip_id    lat_y     lon_y velocity         dist  \n",
       "0  70e92956738446a09fa738fd200b70c6  29.8125 -114.0625    72.33  2285.835959  \n",
       "1  2d7090b4bb0c40289848a56eba31b3a8  28.8125 -113.0625    40.83  2203.642980  \n",
       "2  0a258f42659240bd936e5da48e0afb7e  28.8125 -113.0625    59.68  2203.642980  \n",
       "3  70e92956738446a09fa738fd200b70c6  29.8125 -114.0625    72.33  3028.146730  \n",
       "4  2d7090b4bb0c40289848a56eba31b3a8  28.8125 -113.0625    40.83  2945.853808  \n",
       "\n",
       "[5 rows x 23 columns]"
      ]
     },
     "execution_count": 64,
     "metadata": {},
     "output_type": "execute_result"
    }
   ],
   "source": [
    "merged1.head()"
   ]
  },
  {
   "cell_type": "code",
   "execution_count": 66,
   "metadata": {},
   "outputs": [
    {
     "data": {
      "text/plain": [
       "<matplotlib.axes._subplots.AxesSubplot at 0x19348211f60>"
      ]
     },
     "execution_count": 66,
     "metadata": {},
     "output_type": "execute_result"
    },
    {
     "data": {
      "image/png": "[encoded data removed]",
      "text/plain": [
       "<Figure size 432x288 with 1 Axes>"
      ]
     },
     "metadata": {
      "needs_background": "light"
     },
     "output_type": "display_data"
    }
   ],
   "source": [
    "import matplotlib.pyplot as plt\n",
    "merged1['dist'].hist()"
   ]
  },
  {
   "cell_type": "code",
   "execution_count": 68,
   "metadata": {},
   "outputs": [],
   "source": [
    "merged12=merged1[merged1[\"dist\"]<500]"
   ]
  },
  {
   "cell_type": "code",
   "execution_count": 70,
   "metadata": {},
   "outputs": [],
   "source": [
    "def vehicle_wise_weekly_agg(engine_feat_agg,agg_cols):\n",
    "    grouped=engine_feat_agg.groupby('vehicle_id')\n",
    "    res_df=[]\n",
    "    for vehicle_id,df in tqdm(grouped,desc=\"combining-result\"):\n",
    "        \n",
    "        temp=df.set_index(pd.DatetimeIndex(df['datetime_pst']))\n",
    "        temp=temp.resample(\"W-Mon\")[agg_cols].sum()\n",
    "        temp['vehicle_id']=vehicle_id\n",
    "        temp['week_start_date']=temp.index.date\n",
    "        res_df.append(temp)\n",
    "\n",
    "    return pd.concat(res_df).sort_values(by=['vehicle_id',\"week_start_date\"])[ordered_cols]\n"
   ]
  },
  {
   "cell_type": "code",
   "execution_count": 79,
   "metadata": {},
   "outputs": [
    {
     "data": {
      "text/plain": [
       "<function pandas.core.series.Series.idxmax(self, axis=0, skipna=True, *args, **kwargs)>"
      ]
     },
     "execution_count": 79,
     "metadata": {},
     "output_type": "execute_result"
    }
   ],
   "source": [
    "pd.Series.idxmax"
   ]
  },
  {
   "cell_type": "code",
   "execution_count": 82,
   "metadata": {},
   "outputs": [],
   "source": [
    "def cal_dist(df):\n",
    "    maxidx=df[\"datetime\"].idxmax()\n",
    "    minidx=df[\"datetime\"].idxmin()#.min().index\n",
    "    x1,y1=df.loc[minidx,\"lat_x\"],df.loc[minidx,\"lon_x\"]\n",
    "    x2,y2=df.loc[maxidx,\"lat_x\"],df.loc[maxidx,\"lon_x\"]\n",
    "    return haversine(y1,x1,y2,x2)"
   ]
  },
  {
   "cell_type": "code",
   "execution_count": 87,
   "metadata": {},
   "outputs": [
    {
     "data": {
      "text/plain": [
       "Index(['x', 'y', 'date', 'time', 'lat_x', 'lon_x', 'temperature_data',\n",
       "       'temperature_unit', 'precipitation_data', 'precipitation_unit',\n",
       "       'wind_ew_data', 'wind_ew_unit', 'wind_ns_data', 'wind_ns_unit',\n",
       "       'datetime', 'temp_f', 'tmp', 'vehicle_id', 'trip_id', 'lat_y', 'lon_y',\n",
       "       'velocity', 'dist'],\n",
       "      dtype='object')"
      ]
     },
     "execution_count": 87,
     "metadata": {},
     "output_type": "execute_result"
    }
   ],
   "source": [
    "merged12.columns"
   ]
  },
  {
   "cell_type": "code",
   "execution_count": 89,
   "metadata": {},
   "outputs": [
    {
     "name": "stderr",
     "output_type": "stream",
     "text": [
      "C:\\Users\\gurunath.lv\\AppData\\Local\\Continuum\\anaconda3\\lib\\site-packages\\ipykernel_launcher.py:1: SettingWithCopyWarning: \n",
      "A value is trying to be set on a copy of a slice from a DataFrame.\n",
      "Try using .loc[row_indexer,col_indexer] = value instead\n",
      "\n",
      "See the caveats in the documentation: http://pandas.pydata.org/pandas-docs/stable/indexing.html#indexing-view-versus-copy\n",
      "  \"\"\"Entry point for launching an IPython kernel.\n",
      "C:\\Users\\gurunath.lv\\AppData\\Local\\Continuum\\anaconda3\\lib\\site-packages\\ipykernel_launcher.py:2: SettingWithCopyWarning: \n",
      "A value is trying to be set on a copy of a slice from a DataFrame.\n",
      "Try using .loc[row_indexer,col_indexer] = value instead\n",
      "\n",
      "See the caveats in the documentation: http://pandas.pydata.org/pandas-docs/stable/indexing.html#indexing-view-versus-copy\n",
      "  \n",
      "C:\\Users\\gurunath.lv\\AppData\\Local\\Continuum\\anaconda3\\lib\\site-packages\\ipykernel_launcher.py:3: SettingWithCopyWarning: \n",
      "A value is trying to be set on a copy of a slice from a DataFrame.\n",
      "Try using .loc[row_indexer,col_indexer] = value instead\n",
      "\n",
      "See the caveats in the documentation: http://pandas.pydata.org/pandas-docs/stable/indexing.html#indexing-view-versus-copy\n",
      "  This is separate from the ipykernel package so we can avoid doing imports until\n",
      "C:\\Users\\gurunath.lv\\AppData\\Local\\Continuum\\anaconda3\\lib\\site-packages\\ipykernel_launcher.py:4: SettingWithCopyWarning: \n",
      "A value is trying to be set on a copy of a slice from a DataFrame.\n",
      "Try using .loc[row_indexer,col_indexer] = value instead\n",
      "\n",
      "See the caveats in the documentation: http://pandas.pydata.org/pandas-docs/stable/indexing.html#indexing-view-versus-copy\n",
      "  after removing the cwd from sys.path.\n",
      "C:\\Users\\gurunath.lv\\AppData\\Local\\Continuum\\anaconda3\\lib\\site-packages\\ipykernel_launcher.py:5: SettingWithCopyWarning: \n",
      "A value is trying to be set on a copy of a slice from a DataFrame.\n",
      "Try using .loc[row_indexer,col_indexer] = value instead\n",
      "\n",
      "See the caveats in the documentation: http://pandas.pydata.org/pandas-docs/stable/indexing.html#indexing-view-versus-copy\n",
      "  \"\"\"\n",
      "C:\\Users\\gurunath.lv\\AppData\\Local\\Continuum\\anaconda3\\lib\\site-packages\\ipykernel_launcher.py:6: SettingWithCopyWarning: \n",
      "A value is trying to be set on a copy of a slice from a DataFrame.\n",
      "Try using .loc[row_indexer,col_indexer] = value instead\n",
      "\n",
      "See the caveats in the documentation: http://pandas.pydata.org/pandas-docs/stable/indexing.html#indexing-view-versus-copy\n",
      "  \n"
     ]
    }
   ],
   "source": [
    "merged12[\"snow\"]=merged12['temp_f']<=27\n",
    "merged12[\"freeze_rain\"]=(merged12[\"temp_f\"]>27)&(merged12[\"temp_f\"]<=32)\n",
    "merged12[\"rain\"]=merged12[\"temp_f\"]>32\n",
    "merged12[\"light\"]=(merged12[\"precipitation_data\"]>0)&(merged12[\"precipitation_data\"]<=2.5)\n",
    "merged12[\"moderate\"]=(merged12[\"precipitation_data\"]>2.5)&(merged12[\"precipitation_data\"]<=7.6)\n",
    "merged12[\"heavy\"]=(merged12[\"precipitation_data\"]>7.6)"
   ]
  },
  {
   "cell_type": "code",
   "execution_count": 93,
   "metadata": {},
   "outputs": [
    {
     "data": {
      "text/plain": [
       "trip_id                           light\n",
       "0a258f42659240bd936e5da48e0afb7e  False     315.138731\n",
       "0c8a14f88ce746e1a5f5646c237b145d  False       0.000000\n",
       "15e74a3c82f14f158e86a73532d80232  False     133.729499\n",
       "192637d8a8a841dd85942a5ada12c50a  False     593.067335\n",
       "                                  True      319.795976\n",
       "1a1067afa89649dc94afee2d5d4bbe9f  False     133.729499\n",
       "1d884b30866b460ebf177b0b2ba8e2a7  False     443.558539\n",
       "1fc56d59dc284c3ca4fa433b1be1831c  False     454.241087\n",
       "25c87a2432e4403598b57a863216e87c  False     498.808000\n",
       "261887ff1b2742219c5220e16320e298  False     353.739342\n",
       "29f0c06e12524e238c5a5afc98beb411  False     374.367419\n",
       "2d7090b4bb0c40289848a56eba31b3a8  False     315.138731\n",
       "324d5e90c9274216b3d652fbdfb69174  False       0.000000\n",
       "                                  True        0.000000\n",
       "351641e185ee4ab6bd7aafeecd7b4fdb  False      55.041468\n",
       "                                  True      220.579814\n",
       "3bc73acbead74063892359d23d48f9e8  False       0.000000\n",
       "43f45846bbeb42c48ea2eace0153125c  False       0.000000\n",
       "495628ebc38448d49baebd38bbabce70  False     555.125640\n",
       "4a011ebea23a4290adead1c3f61e77e1  False       0.000000\n",
       "                                  True        0.000000\n",
       "5bfeaca580384112bba820473ba472dc  False     291.939050\n",
       "6524517f864e48d5899037bff0e74e75  False     686.254062\n",
       "655ab8cc4177430396d75703ee871718  False       0.000000\n",
       "70e92956738446a09fa738fd200b70c6  False     315.138731\n",
       "7442a233e4ec4c2f9a64ec6b37f331eb  False     374.367419\n",
       "763929eade3044879e23cefd54fd75b8  False     231.775917\n",
       "7864ed2f621448f8867d001bd08dea80  False     485.513202\n",
       "79cdad704bfc4202817e1445524311a9  False     133.729499\n",
       "7e1ea3d4548d408fb81ca8b2484ef3f5  False     485.513202\n",
       "8fbde1a93d15436fad408a3de0750312  False       0.000000\n",
       "93c9c51b6cec4850a0e61b84268bc414  False       0.000000\n",
       "                                  True        0.000000\n",
       "9957b387220a44fdb1e2f8829cf1c2e5  False     443.558539\n",
       "9d346aa06bfb45d8b6a893e2f7244fdd  False     555.125640\n",
       "a100f5692162435ebf98f20f057b4723  False    1121.641295\n",
       "be2f2e4f112b43d999a949cf82752e26  False     642.343672\n",
       "                                  True        0.000000\n",
       "d4660557b8664f90b9f773e25e6cfa19  False     454.241087\n",
       "d9a53b89dfd44aedb9b4696902d19de7  False       0.000000\n",
       "                                  True        0.000000\n",
       "e2394e1122fb4120a730260a96f17948  False       0.000000\n",
       "e938216e4b8e4fa4928a1afbb6847ef6  False     121.917231\n",
       "                                  True      194.142812\n",
       "ec4a3b1d1f334f0085fba5d579deecd3  False       0.000000\n",
       "ecbefcda9c394d5f9b05039cb28d54c4  False     498.808000\n",
       "f0fdaa61d7d54f0586b2c660573f9630  False     485.513202\n",
       "f79066a0a4114574a35bee3b345faf70  False     686.254062\n",
       "dtype: float64"
      ]
     },
     "execution_count": 93,
     "metadata": {},
     "output_type": "execute_result"
    }
   ],
   "source": [
    "merged12.groupby([\"trip_id\",\"light\"]).apply(cal_dist)"
   ]
  },
  {
   "cell_type": "code",
   "execution_count": 100,
   "metadata": {},
   "outputs": [
    {
     "data": {
      "text/plain": [
       "vehicle_id  trip_id                           light  rain  heavy  moderate  snow   freeze_rain\n",
       "1000500     1a1067afa89649dc94afee2d5d4bbe9f  False  True  False  False     False  False           133.729499\n",
       "            351641e185ee4ab6bd7aafeecd7b4fdb  False  True  False  False     False  False           688.062737\n",
       "                                                                  True      False  False           204.057998\n",
       "                                                           True   False     False  False           166.792390\n",
       "                                              True   True  False  False     False  False           220.579814\n",
       "1000501     8fbde1a93d15436fad408a3de0750312  False  True  False  False     False  False             0.000000\n",
       "1000502     1fc56d59dc284c3ca4fa433b1be1831c  False  True  False  False     False  False           454.241087\n",
       "            25c87a2432e4403598b57a863216e87c  False  True  False  False     False  False           498.808000\n",
       "            3bc73acbead74063892359d23d48f9e8  False  True  False  False     False  False             0.000000\n",
       "            495628ebc38448d49baebd38bbabce70  False  True  False  False     False  False           555.125640\n",
       "1000503     43f45846bbeb42c48ea2eace0153125c  False  True  False  False     False  False             0.000000\n",
       "1000504     192637d8a8a841dd85942a5ada12c50a  False  True  False  False     False  False            73.396699\n",
       "                                                                  True      False  False            96.036454\n",
       "                                                           True   False     False  False             0.000000\n",
       "                                              True   True  False  False     False  False           319.795976\n",
       "            d9a53b89dfd44aedb9b4696902d19de7  False  True  False  False     False  False             0.000000\n",
       "                                              True   True  False  False     False  False             0.000000\n",
       "1000505     4a011ebea23a4290adead1c3f61e77e1  False  True  False  False     False  False             0.000000\n",
       "                                              True   True  False  False     False  False             0.000000\n",
       "1000506     0a258f42659240bd936e5da48e0afb7e  False  True  False  False     False  False           315.138731\n",
       "            261887ff1b2742219c5220e16320e298  False  True  False  False     False  False           353.739342\n",
       "            7864ed2f621448f8867d001bd08dea80  False  True  False  False     False  False           485.513202\n",
       "1000507     9957b387220a44fdb1e2f8829cf1c2e5  False  True  False  False     False  False           443.558539\n",
       "            e938216e4b8e4fa4928a1afbb6847ef6  False  True  False  False     False  False           121.917231\n",
       "                                              True   True  False  False     False  False           194.142812\n",
       "            ecbefcda9c394d5f9b05039cb28d54c4  False  True  False  False     False  False           498.808000\n",
       "1000508     7442a233e4ec4c2f9a64ec6b37f331eb  False  True  False  False     False  False           374.367419\n",
       "            e2394e1122fb4120a730260a96f17948  False  True  False  False     False  False             0.000000\n",
       "1000509     1d884b30866b460ebf177b0b2ba8e2a7  False  True  False  False     False  False           443.558539\n",
       "            7e1ea3d4548d408fb81ca8b2484ef3f5  False  True  False  False     False  False           485.513202\n",
       "1000510     2d7090b4bb0c40289848a56eba31b3a8  False  True  False  False     False  False           315.138731\n",
       "            324d5e90c9274216b3d652fbdfb69174  False  True  False  False     False  False             0.000000\n",
       "                                                                  True      False  False             0.000000\n",
       "                                                           True   False     False  False             0.000000\n",
       "                                              True   True  False  False     False  False             0.000000\n",
       "            70e92956738446a09fa738fd200b70c6  False  True  False  False     False  False           315.138731\n",
       "            d4660557b8664f90b9f773e25e6cfa19  False  True  False  False     False  False           454.241087\n",
       "1000511     0c8a14f88ce746e1a5f5646c237b145d  False  True  False  False     False  False             0.000000\n",
       "            29f0c06e12524e238c5a5afc98beb411  False  True  False  False     False  False           374.367419\n",
       "            5bfeaca580384112bba820473ba472dc  False  True  False  False     False  False           291.939050\n",
       "            763929eade3044879e23cefd54fd75b8  False  True  False  False     False  False           231.775917\n",
       "1000512     ec4a3b1d1f334f0085fba5d579deecd3  False  True  False  False     False  False             0.000000\n",
       "            f79066a0a4114574a35bee3b345faf70  False  True  False  False     False  False           686.254062\n",
       "1000513     655ab8cc4177430396d75703ee871718  False  True  False  False     False  False             0.000000\n",
       "            9d346aa06bfb45d8b6a893e2f7244fdd  False  True  False  False     False  False           555.125640\n",
       "1000514     6524517f864e48d5899037bff0e74e75  False  True  False  False     False  False           686.254062\n",
       "            f0fdaa61d7d54f0586b2c660573f9630  False  True  False  False     False  False           485.513202\n",
       "1000515     79cdad704bfc4202817e1445524311a9  False  True  False  False     False  False           133.729499\n",
       "1000517     15e74a3c82f14f158e86a73532d80232  False  True  False  False     False  False           133.729499\n",
       "1000518     be2f2e4f112b43d999a949cf82752e26  False  True  False  False     False  False           642.343672\n",
       "                                              True   True  False  False     False  False             0.000000\n",
       "1000519     93c9c51b6cec4850a0e61b84268bc414  False  True  False  False     False  False             0.000000\n",
       "                                                                  True      False  False             0.000000\n",
       "                                                           True   False     False  False             0.000000\n",
       "                                              True   True  False  False     False  False             0.000000\n",
       "            a100f5692162435ebf98f20f057b4723  False  True  False  False     False  False          1121.641295\n",
       "dtype: float64"
      ]
     },
     "execution_count": 100,
     "metadata": {},
     "output_type": "execute_result"
    }
   ],
   "source": [
    "merged12.groupby([\"vehicle_id\",\"trip_id\",\"light\",\"rain\",\"heavy\",\"moderate\",\"snow\",\"freeze_rain\"]).apply(cal_dist)"
   ]
  },
  {
   "cell_type": "code",
   "execution_count": 105,
   "metadata": {},
   "outputs": [
    {
     "data": {
      "text/plain": [
       "trip_id\n",
       "0a258f42659240bd936e5da48e0afb7e     315.138731\n",
       "0c8a14f88ce746e1a5f5646c237b145d       0.000000\n",
       "15e74a3c82f14f158e86a73532d80232     133.729499\n",
       "192637d8a8a841dd85942a5ada12c50a     593.067335\n",
       "1a1067afa89649dc94afee2d5d4bbe9f     133.729499\n",
       "1d884b30866b460ebf177b0b2ba8e2a7     443.558539\n",
       "1fc56d59dc284c3ca4fa433b1be1831c     454.241087\n",
       "25c87a2432e4403598b57a863216e87c     498.808000\n",
       "261887ff1b2742219c5220e16320e298     353.739342\n",
       "29f0c06e12524e238c5a5afc98beb411     374.367419\n",
       "2d7090b4bb0c40289848a56eba31b3a8     315.138731\n",
       "324d5e90c9274216b3d652fbdfb69174       0.000000\n",
       "351641e185ee4ab6bd7aafeecd7b4fdb      55.041468\n",
       "3bc73acbead74063892359d23d48f9e8       0.000000\n",
       "43f45846bbeb42c48ea2eace0153125c       0.000000\n",
       "495628ebc38448d49baebd38bbabce70     555.125640\n",
       "4a011ebea23a4290adead1c3f61e77e1       0.000000\n",
       "5bfeaca580384112bba820473ba472dc     291.939050\n",
       "6524517f864e48d5899037bff0e74e75     686.254062\n",
       "655ab8cc4177430396d75703ee871718       0.000000\n",
       "70e92956738446a09fa738fd200b70c6     315.138731\n",
       "7442a233e4ec4c2f9a64ec6b37f331eb     374.367419\n",
       "763929eade3044879e23cefd54fd75b8     231.775917\n",
       "7864ed2f621448f8867d001bd08dea80     485.513202\n",
       "79cdad704bfc4202817e1445524311a9     133.729499\n",
       "7e1ea3d4548d408fb81ca8b2484ef3f5     485.513202\n",
       "8fbde1a93d15436fad408a3de0750312       0.000000\n",
       "93c9c51b6cec4850a0e61b84268bc414       0.000000\n",
       "9957b387220a44fdb1e2f8829cf1c2e5     443.558539\n",
       "9d346aa06bfb45d8b6a893e2f7244fdd     555.125640\n",
       "a100f5692162435ebf98f20f057b4723    1121.641295\n",
       "be2f2e4f112b43d999a949cf82752e26     642.343672\n",
       "d4660557b8664f90b9f773e25e6cfa19     454.241087\n",
       "d9a53b89dfd44aedb9b4696902d19de7       0.000000\n",
       "e2394e1122fb4120a730260a96f17948       0.000000\n",
       "e938216e4b8e4fa4928a1afbb6847ef6     121.917231\n",
       "ec4a3b1d1f334f0085fba5d579deecd3       0.000000\n",
       "ecbefcda9c394d5f9b05039cb28d54c4     498.808000\n",
       "f0fdaa61d7d54f0586b2c660573f9630     485.513202\n",
       "f79066a0a4114574a35bee3b345faf70     686.254062\n",
       "dtype: float64"
      ]
     },
     "execution_count": 105,
     "metadata": {},
     "output_type": "execute_result"
    }
   ],
   "source": [
    "merged12.groupby([\"trip_id\"]).apply(cal_dist)"
   ]
  },
  {
   "cell_type": "code",
   "execution_count": 136,
   "metadata": {},
   "outputs": [],
   "source": [
    "ordered_cols=['vehicle_id',\n",
    "'week_start_date',\n",
    "'total_light_rain_driving_km',\n",
    "'total_light_freezing_rain_driving_km',\n",
    "'total_light_snow_driving_km',\n",
    "'total_moderate_rain_driving_km',\n",
    "'total_moderate_freezing_rain_driving_km',\n",
    "'total_moderate_snow_driving_km',\n",
    "'total_heavy_rain_driving_km'\n",
    "]"
   ]
  },
  {
   "cell_type": "code",
   "execution_count": 106,
   "metadata": {},
   "outputs": [
    {
     "data": {
      "text/plain": [
       "vehicle_id\n",
       "1000500     220.579814\n",
       "1000504    2246.715621\n",
       "1000505       0.000000\n",
       "1000507     194.142812\n",
       "1000510       0.000000\n",
       "1000518       0.000000\n",
       "1000519       0.000000\n",
       "dtype: float64"
      ]
     },
     "execution_count": 106,
     "metadata": {},
     "output_type": "execute_result"
    }
   ],
   "source": [
    "merged12[merged12['light']&merged12['rain']].groupby(\"vehicle_id\").apply(cal_dist)"
   ]
  },
  {
   "cell_type": "code",
   "execution_count": null,
   "metadata": {},
   "outputs": [],
   "source": [
    "merged12[merged12['light']&merged12['rain']]"
   ]
  },
  {
   "cell_type": "code",
   "execution_count": 161,
   "metadata": {},
   "outputs": [],
   "source": [
    "from tqdm import tqdm\n",
    "def vehicle_wise_weekly_agg(df,agg_cols):\n",
    "    grouped=df.groupby('vehicle_id')\n",
    "    res_df=[]\n",
    "    for vehicle_id,df in tqdm(grouped,desc=\"combining-result\"):\n",
    "        \n",
    "        temp=df.set_index(pd.DatetimeIndex(df['datetime']))\n",
    "        #print(temp.head())\n",
    "        temp['week_start_date']=temp.index.date\n",
    "        temp1=temp.resample(\"W-Mon\").sum()\n",
    "        temp1['vehicle_id']=vehicle_id\n",
    "        \n",
    "        temp1['total_light_rain_driving_km']=temp[temp['rain']&temp['light']].resample(\"W-Mon\")['dist'].sum().values\n",
    "        temp1[\"total_light_freezing_rain_driving_km\"]=temp[temp['freeze_rain']&temp['light']].resample(\"W-Mon\")['dist'].sum().values\n",
    "        temp1[\"total_light_snow_driving_km\"]=temp[temp['snow']&temp[\"light\"]].resample(\"W-Mon\")['dist'].sum().values\n",
    "        temp1[\"total_moderate_rain_driving_km\"]=temp[temp['rain']&temp[\"moderate\"]].resample(\"W-Mon\")['dist'].sum().values\n",
    "        temp1[\"total_moderate_freezing_rain_driving_km\"]=temp[temp['freeze_rain']&temp[\"moderate\"]].resample(\"W-Mon\")['dist'].sum().values\n",
    "        temp1[\"total_moderate_snow_driving_km\"]=temp[temp['snow']&temp['moderate']].resample(\"W-Mon\")['dist'].sum().values\n",
    "        temp1[\"total_heavy_rain_driving_km\"]=temp[temp['rain']&temp[\"heavy\"]].resample(\"W-Mon\")['dist'].sum().values\n",
    "        #temp=temp[temp['rain']].resample(\"W-Mon\")['dist'].sum().values\n",
    "\n",
    "        res_df.append(temp)\n",
    "\n",
    "    return pd.concat(res_df).sort_values(by=['vehicle_id',\"week_start_date\"])[ordered_cols]\n",
    "\n"
   ]
  },
  {
   "cell_type": "code",
   "execution_count": 162,
   "metadata": {},
   "outputs": [
    {
     "name": "stderr",
     "output_type": "stream",
     "text": [
      "combining-result:   0%|                                                                         | 0/19 [00:00<?, ?it/s]\n"
     ]
    },
    {
     "ename": "ValueError",
     "evalue": "Length of values does not match length of index",
     "output_type": "error",
     "traceback": [
      "\u001b[1;31m---------------------------------------------------------------------------\u001b[0m",
      "\u001b[1;31mValueError\u001b[0m                                Traceback (most recent call last)",
      "\u001b[1;32m<ipython-input-162-bdb7d30e5c30>\u001b[0m in \u001b[0;36m<module>\u001b[1;34m\u001b[0m\n\u001b[1;32m----> 1\u001b[1;33m \u001b[0mvehicle_wise_weekly_agg\u001b[0m\u001b[1;33m(\u001b[0m\u001b[0mmerged12\u001b[0m\u001b[1;33m,\u001b[0m\u001b[1;33m[\u001b[0m\u001b[1;34m'dist'\u001b[0m\u001b[1;33m]\u001b[0m\u001b[1;33m)\u001b[0m\u001b[1;33m\u001b[0m\u001b[1;33m\u001b[0m\u001b[0m\n\u001b[0m",
      "\u001b[1;32m<ipython-input-161-96ca312c7d4b>\u001b[0m in \u001b[0;36mvehicle_wise_weekly_agg\u001b[1;34m(df, agg_cols)\u001b[0m\n\u001b[0;32m      9\u001b[0m         \u001b[0mtemp1\u001b[0m\u001b[1;33m=\u001b[0m\u001b[0mtemp\u001b[0m\u001b[1;33m.\u001b[0m\u001b[0mresample\u001b[0m\u001b[1;33m(\u001b[0m\u001b[1;34m\"W-Mon\"\u001b[0m\u001b[1;33m)\u001b[0m\u001b[1;33m.\u001b[0m\u001b[0msum\u001b[0m\u001b[1;33m(\u001b[0m\u001b[1;33m)\u001b[0m\u001b[1;33m\u001b[0m\u001b[1;33m\u001b[0m\u001b[0m\n\u001b[0;32m     10\u001b[0m         \u001b[0mtemp1\u001b[0m\u001b[1;33m[\u001b[0m\u001b[1;34m'vehicle_id'\u001b[0m\u001b[1;33m]\u001b[0m\u001b[1;33m=\u001b[0m\u001b[0mvehicle_id\u001b[0m\u001b[1;33m\u001b[0m\u001b[1;33m\u001b[0m\u001b[0m\n\u001b[1;32m---> 11\u001b[1;33m         \u001b[0mtemp1\u001b[0m\u001b[1;33m[\u001b[0m\u001b[1;34m'week_start_date'\u001b[0m\u001b[1;33m]\u001b[0m\u001b[1;33m=\u001b[0m\u001b[0mtemp\u001b[0m\u001b[1;33m.\u001b[0m\u001b[0mindex\u001b[0m\u001b[1;33m.\u001b[0m\u001b[0mdate\u001b[0m\u001b[1;33m\u001b[0m\u001b[1;33m\u001b[0m\u001b[0m\n\u001b[0m\u001b[0;32m     12\u001b[0m         \u001b[0mtemp1\u001b[0m\u001b[1;33m[\u001b[0m\u001b[1;34m'total_light_rain_driving_km'\u001b[0m\u001b[1;33m]\u001b[0m\u001b[1;33m=\u001b[0m\u001b[0mtemp\u001b[0m\u001b[1;33m[\u001b[0m\u001b[0mtemp\u001b[0m\u001b[1;33m[\u001b[0m\u001b[1;34m'rain'\u001b[0m\u001b[1;33m]\u001b[0m\u001b[1;33m&\u001b[0m\u001b[0mtemp\u001b[0m\u001b[1;33m[\u001b[0m\u001b[1;34m'light'\u001b[0m\u001b[1;33m]\u001b[0m\u001b[1;33m]\u001b[0m\u001b[1;33m.\u001b[0m\u001b[0mresample\u001b[0m\u001b[1;33m(\u001b[0m\u001b[1;34m\"W-Mon\"\u001b[0m\u001b[1;33m)\u001b[0m\u001b[1;33m[\u001b[0m\u001b[1;34m'dist'\u001b[0m\u001b[1;33m]\u001b[0m\u001b[1;33m.\u001b[0m\u001b[0msum\u001b[0m\u001b[1;33m(\u001b[0m\u001b[1;33m)\u001b[0m\u001b[1;33m.\u001b[0m\u001b[0mvalues\u001b[0m\u001b[1;33m\u001b[0m\u001b[1;33m\u001b[0m\u001b[0m\n\u001b[0;32m     13\u001b[0m         \u001b[0mtemp1\u001b[0m\u001b[1;33m[\u001b[0m\u001b[1;34m\"total_light_freezing_rain_driving_km\"\u001b[0m\u001b[1;33m]\u001b[0m\u001b[1;33m=\u001b[0m\u001b[0mtemp\u001b[0m\u001b[1;33m[\u001b[0m\u001b[0mtemp\u001b[0m\u001b[1;33m[\u001b[0m\u001b[1;34m'freeze_rain'\u001b[0m\u001b[1;33m]\u001b[0m\u001b[1;33m&\u001b[0m\u001b[0mtemp\u001b[0m\u001b[1;33m[\u001b[0m\u001b[1;34m'light'\u001b[0m\u001b[1;33m]\u001b[0m\u001b[1;33m]\u001b[0m\u001b[1;33m.\u001b[0m\u001b[0mresample\u001b[0m\u001b[1;33m(\u001b[0m\u001b[1;34m\"W-Mon\"\u001b[0m\u001b[1;33m)\u001b[0m\u001b[1;33m[\u001b[0m\u001b[1;34m'dist'\u001b[0m\u001b[1;33m]\u001b[0m\u001b[1;33m.\u001b[0m\u001b[0msum\u001b[0m\u001b[1;33m(\u001b[0m\u001b[1;33m)\u001b[0m\u001b[1;33m.\u001b[0m\u001b[0mvalues\u001b[0m\u001b[1;33m\u001b[0m\u001b[1;33m\u001b[0m\u001b[0m\n",
      "\u001b[1;32m~\\AppData\\Local\\Continuum\\anaconda3\\lib\\site-packages\\pandas\\core\\frame.py\u001b[0m in \u001b[0;36m__setitem__\u001b[1;34m(self, key, value)\u001b[0m\n\u001b[0;32m   3368\u001b[0m         \u001b[1;32melse\u001b[0m\u001b[1;33m:\u001b[0m\u001b[1;33m\u001b[0m\u001b[1;33m\u001b[0m\u001b[0m\n\u001b[0;32m   3369\u001b[0m             \u001b[1;31m# set column\u001b[0m\u001b[1;33m\u001b[0m\u001b[1;33m\u001b[0m\u001b[1;33m\u001b[0m\u001b[0m\n\u001b[1;32m-> 3370\u001b[1;33m             \u001b[0mself\u001b[0m\u001b[1;33m.\u001b[0m\u001b[0m_set_item\u001b[0m\u001b[1;33m(\u001b[0m\u001b[0mkey\u001b[0m\u001b[1;33m,\u001b[0m \u001b[0mvalue\u001b[0m\u001b[1;33m)\u001b[0m\u001b[1;33m\u001b[0m\u001b[1;33m\u001b[0m\u001b[0m\n\u001b[0m\u001b[0;32m   3371\u001b[0m \u001b[1;33m\u001b[0m\u001b[0m\n\u001b[0;32m   3372\u001b[0m     \u001b[1;32mdef\u001b[0m \u001b[0m_setitem_slice\u001b[0m\u001b[1;33m(\u001b[0m\u001b[0mself\u001b[0m\u001b[1;33m,\u001b[0m \u001b[0mkey\u001b[0m\u001b[1;33m,\u001b[0m \u001b[0mvalue\u001b[0m\u001b[1;33m)\u001b[0m\u001b[1;33m:\u001b[0m\u001b[1;33m\u001b[0m\u001b[1;33m\u001b[0m\u001b[0m\n",
      "\u001b[1;32m~\\AppData\\Local\\Continuum\\anaconda3\\lib\\site-packages\\pandas\\core\\frame.py\u001b[0m in \u001b[0;36m_set_item\u001b[1;34m(self, key, value)\u001b[0m\n\u001b[0;32m   3443\u001b[0m \u001b[1;33m\u001b[0m\u001b[0m\n\u001b[0;32m   3444\u001b[0m         \u001b[0mself\u001b[0m\u001b[1;33m.\u001b[0m\u001b[0m_ensure_valid_index\u001b[0m\u001b[1;33m(\u001b[0m\u001b[0mvalue\u001b[0m\u001b[1;33m)\u001b[0m\u001b[1;33m\u001b[0m\u001b[1;33m\u001b[0m\u001b[0m\n\u001b[1;32m-> 3445\u001b[1;33m         \u001b[0mvalue\u001b[0m \u001b[1;33m=\u001b[0m \u001b[0mself\u001b[0m\u001b[1;33m.\u001b[0m\u001b[0m_sanitize_column\u001b[0m\u001b[1;33m(\u001b[0m\u001b[0mkey\u001b[0m\u001b[1;33m,\u001b[0m \u001b[0mvalue\u001b[0m\u001b[1;33m)\u001b[0m\u001b[1;33m\u001b[0m\u001b[1;33m\u001b[0m\u001b[0m\n\u001b[0m\u001b[0;32m   3446\u001b[0m         \u001b[0mNDFrame\u001b[0m\u001b[1;33m.\u001b[0m\u001b[0m_set_item\u001b[0m\u001b[1;33m(\u001b[0m\u001b[0mself\u001b[0m\u001b[1;33m,\u001b[0m \u001b[0mkey\u001b[0m\u001b[1;33m,\u001b[0m \u001b[0mvalue\u001b[0m\u001b[1;33m)\u001b[0m\u001b[1;33m\u001b[0m\u001b[1;33m\u001b[0m\u001b[0m\n\u001b[0;32m   3447\u001b[0m \u001b[1;33m\u001b[0m\u001b[0m\n",
      "\u001b[1;32m~\\AppData\\Local\\Continuum\\anaconda3\\lib\\site-packages\\pandas\\core\\frame.py\u001b[0m in \u001b[0;36m_sanitize_column\u001b[1;34m(self, key, value, broadcast)\u001b[0m\n\u001b[0;32m   3628\u001b[0m \u001b[1;33m\u001b[0m\u001b[0m\n\u001b[0;32m   3629\u001b[0m             \u001b[1;31m# turn me into an ndarray\u001b[0m\u001b[1;33m\u001b[0m\u001b[1;33m\u001b[0m\u001b[1;33m\u001b[0m\u001b[0m\n\u001b[1;32m-> 3630\u001b[1;33m             \u001b[0mvalue\u001b[0m \u001b[1;33m=\u001b[0m \u001b[0msanitize_index\u001b[0m\u001b[1;33m(\u001b[0m\u001b[0mvalue\u001b[0m\u001b[1;33m,\u001b[0m \u001b[0mself\u001b[0m\u001b[1;33m.\u001b[0m\u001b[0mindex\u001b[0m\u001b[1;33m,\u001b[0m \u001b[0mcopy\u001b[0m\u001b[1;33m=\u001b[0m\u001b[1;32mFalse\u001b[0m\u001b[1;33m)\u001b[0m\u001b[1;33m\u001b[0m\u001b[1;33m\u001b[0m\u001b[0m\n\u001b[0m\u001b[0;32m   3631\u001b[0m             \u001b[1;32mif\u001b[0m \u001b[1;32mnot\u001b[0m \u001b[0misinstance\u001b[0m\u001b[1;33m(\u001b[0m\u001b[0mvalue\u001b[0m\u001b[1;33m,\u001b[0m \u001b[1;33m(\u001b[0m\u001b[0mnp\u001b[0m\u001b[1;33m.\u001b[0m\u001b[0mndarray\u001b[0m\u001b[1;33m,\u001b[0m \u001b[0mIndex\u001b[0m\u001b[1;33m)\u001b[0m\u001b[1;33m)\u001b[0m\u001b[1;33m:\u001b[0m\u001b[1;33m\u001b[0m\u001b[1;33m\u001b[0m\u001b[0m\n\u001b[0;32m   3632\u001b[0m                 \u001b[1;32mif\u001b[0m \u001b[0misinstance\u001b[0m\u001b[1;33m(\u001b[0m\u001b[0mvalue\u001b[0m\u001b[1;33m,\u001b[0m \u001b[0mlist\u001b[0m\u001b[1;33m)\u001b[0m \u001b[1;32mand\u001b[0m \u001b[0mlen\u001b[0m\u001b[1;33m(\u001b[0m\u001b[0mvalue\u001b[0m\u001b[1;33m)\u001b[0m \u001b[1;33m>\u001b[0m \u001b[1;36m0\u001b[0m\u001b[1;33m:\u001b[0m\u001b[1;33m\u001b[0m\u001b[1;33m\u001b[0m\u001b[0m\n",
      "\u001b[1;32m~\\AppData\\Local\\Continuum\\anaconda3\\lib\\site-packages\\pandas\\core\\internals\\construction.py\u001b[0m in \u001b[0;36msanitize_index\u001b[1;34m(data, index, copy)\u001b[0m\n\u001b[0;32m    517\u001b[0m \u001b[1;33m\u001b[0m\u001b[0m\n\u001b[0;32m    518\u001b[0m     \u001b[1;32mif\u001b[0m \u001b[0mlen\u001b[0m\u001b[1;33m(\u001b[0m\u001b[0mdata\u001b[0m\u001b[1;33m)\u001b[0m \u001b[1;33m!=\u001b[0m \u001b[0mlen\u001b[0m\u001b[1;33m(\u001b[0m\u001b[0mindex\u001b[0m\u001b[1;33m)\u001b[0m\u001b[1;33m:\u001b[0m\u001b[1;33m\u001b[0m\u001b[1;33m\u001b[0m\u001b[0m\n\u001b[1;32m--> 519\u001b[1;33m         \u001b[1;32mraise\u001b[0m \u001b[0mValueError\u001b[0m\u001b[1;33m(\u001b[0m\u001b[1;34m'Length of values does not match length of index'\u001b[0m\u001b[1;33m)\u001b[0m\u001b[1;33m\u001b[0m\u001b[1;33m\u001b[0m\u001b[0m\n\u001b[0m\u001b[0;32m    520\u001b[0m \u001b[1;33m\u001b[0m\u001b[0m\n\u001b[0;32m    521\u001b[0m     \u001b[1;32mif\u001b[0m \u001b[0misinstance\u001b[0m\u001b[1;33m(\u001b[0m\u001b[0mdata\u001b[0m\u001b[1;33m,\u001b[0m \u001b[0mABCIndexClass\u001b[0m\u001b[1;33m)\u001b[0m \u001b[1;32mand\u001b[0m \u001b[1;32mnot\u001b[0m \u001b[0mcopy\u001b[0m\u001b[1;33m:\u001b[0m\u001b[1;33m\u001b[0m\u001b[1;33m\u001b[0m\u001b[0m\n",
      "\u001b[1;31mValueError\u001b[0m: Length of values does not match length of index"
     ]
    }
   ],
   "source": [
    "vehicle_wise_weekly_agg(merged12,['dist'])"
   ]
  },
  {
   "cell_type": "code",
   "execution_count": 112,
   "metadata": {},
   "outputs": [
    {
     "name": "stderr",
     "output_type": "stream",
     "text": [
      "combining-result: 100%|████████████████████████████████████████████████████████████████| 19/19 [00:00<00:00, 37.57it/s]\n"
     ]
    },
    {
     "data": {
      "text/html": [
       "<div>\n",
       "<style scoped>\n",
       "    .dataframe tbody tr th:only-of-type {\n",
       "        vertical-align: middle;\n",
       "    }\n",
       "\n",
       "    .dataframe tbody tr th {\n",
       "        vertical-align: top;\n",
       "    }\n",
       "\n",
       "    .dataframe thead th {\n",
       "        text-align: right;\n",
       "    }\n",
       "</style>\n",
       "<table border=\"1\" class=\"dataframe\">\n",
       "  <thead>\n",
       "    <tr style=\"text-align: right;\">\n",
       "      <th></th>\n",
       "      <th>dist</th>\n",
       "      <th>vehicle_id</th>\n",
       "      <th>week_start_date</th>\n",
       "    </tr>\n",
       "    <tr>\n",
       "      <th>datetime</th>\n",
       "      <th></th>\n",
       "      <th></th>\n",
       "      <th></th>\n",
       "    </tr>\n",
       "  </thead>\n",
       "  <tbody>\n",
       "    <tr>\n",
       "      <th>2017-01-02 00:00:00-08:00</th>\n",
       "      <td>5989.721004</td>\n",
       "      <td>1000500</td>\n",
       "      <td>2017-01-02</td>\n",
       "    </tr>\n",
       "    <tr>\n",
       "      <th>2017-01-09 00:00:00-08:00</th>\n",
       "      <td>0.000000</td>\n",
       "      <td>1000500</td>\n",
       "      <td>2017-01-09</td>\n",
       "    </tr>\n",
       "    <tr>\n",
       "      <th>2017-01-16 00:00:00-08:00</th>\n",
       "      <td>0.000000</td>\n",
       "      <td>1000500</td>\n",
       "      <td>2017-01-16</td>\n",
       "    </tr>\n",
       "    <tr>\n",
       "      <th>2017-01-23 00:00:00-08:00</th>\n",
       "      <td>0.000000</td>\n",
       "      <td>1000500</td>\n",
       "      <td>2017-01-23</td>\n",
       "    </tr>\n",
       "    <tr>\n",
       "      <th>2017-01-30 00:00:00-08:00</th>\n",
       "      <td>0.000000</td>\n",
       "      <td>1000500</td>\n",
       "      <td>2017-01-30</td>\n",
       "    </tr>\n",
       "    <tr>\n",
       "      <th>2017-02-06 00:00:00-08:00</th>\n",
       "      <td>0.000000</td>\n",
       "      <td>1000500</td>\n",
       "      <td>2017-02-06</td>\n",
       "    </tr>\n",
       "    <tr>\n",
       "      <th>2017-02-13 00:00:00-08:00</th>\n",
       "      <td>3118.447136</td>\n",
       "      <td>1000500</td>\n",
       "      <td>2017-02-13</td>\n",
       "    </tr>\n",
       "    <tr>\n",
       "      <th>2017-02-06 00:00:00-08:00</th>\n",
       "      <td>2463.625177</td>\n",
       "      <td>1000501</td>\n",
       "      <td>2017-02-06</td>\n",
       "    </tr>\n",
       "    <tr>\n",
       "      <th>2017-01-16 00:00:00-08:00</th>\n",
       "      <td>6261.216726</td>\n",
       "      <td>1000502</td>\n",
       "      <td>2017-01-16</td>\n",
       "    </tr>\n",
       "    <tr>\n",
       "      <th>2017-01-23 00:00:00-08:00</th>\n",
       "      <td>0.000000</td>\n",
       "      <td>1000502</td>\n",
       "      <td>2017-01-23</td>\n",
       "    </tr>\n",
       "    <tr>\n",
       "      <th>2017-01-30 00:00:00-08:00</th>\n",
       "      <td>0.000000</td>\n",
       "      <td>1000502</td>\n",
       "      <td>2017-01-30</td>\n",
       "    </tr>\n",
       "    <tr>\n",
       "      <th>2017-02-06 00:00:00-08:00</th>\n",
       "      <td>8171.258416</td>\n",
       "      <td>1000502</td>\n",
       "      <td>2017-02-06</td>\n",
       "    </tr>\n",
       "    <tr>\n",
       "      <th>2017-02-13 00:00:00-08:00</th>\n",
       "      <td>0.000000</td>\n",
       "      <td>1000502</td>\n",
       "      <td>2017-02-13</td>\n",
       "    </tr>\n",
       "    <tr>\n",
       "      <th>2017-02-20 00:00:00-08:00</th>\n",
       "      <td>9253.921127</td>\n",
       "      <td>1000502</td>\n",
       "      <td>2017-02-20</td>\n",
       "    </tr>\n",
       "    <tr>\n",
       "      <th>2017-02-27 00:00:00-08:00</th>\n",
       "      <td>8995.091108</td>\n",
       "      <td>1000502</td>\n",
       "      <td>2017-02-27</td>\n",
       "    </tr>\n",
       "    <tr>\n",
       "      <th>2017-02-13 00:00:00-08:00</th>\n",
       "      <td>1502.173519</td>\n",
       "      <td>1000503</td>\n",
       "      <td>2017-02-13</td>\n",
       "    </tr>\n",
       "    <tr>\n",
       "      <th>2017-01-02 00:00:00-08:00</th>\n",
       "      <td>3508.084701</td>\n",
       "      <td>1000504</td>\n",
       "      <td>2017-01-02</td>\n",
       "    </tr>\n",
       "    <tr>\n",
       "      <th>2017-01-09 00:00:00-08:00</th>\n",
       "      <td>0.000000</td>\n",
       "      <td>1000504</td>\n",
       "      <td>2017-01-09</td>\n",
       "    </tr>\n",
       "    <tr>\n",
       "      <th>2017-01-16 00:00:00-08:00</th>\n",
       "      <td>0.000000</td>\n",
       "      <td>1000504</td>\n",
       "      <td>2017-01-16</td>\n",
       "    </tr>\n",
       "    <tr>\n",
       "      <th>2017-01-23 00:00:00-08:00</th>\n",
       "      <td>0.000000</td>\n",
       "      <td>1000504</td>\n",
       "      <td>2017-01-23</td>\n",
       "    </tr>\n",
       "    <tr>\n",
       "      <th>2017-01-30 00:00:00-08:00</th>\n",
       "      <td>0.000000</td>\n",
       "      <td>1000504</td>\n",
       "      <td>2017-01-30</td>\n",
       "    </tr>\n",
       "    <tr>\n",
       "      <th>2017-02-06 00:00:00-08:00</th>\n",
       "      <td>0.000000</td>\n",
       "      <td>1000504</td>\n",
       "      <td>2017-02-06</td>\n",
       "    </tr>\n",
       "    <tr>\n",
       "      <th>2017-02-13 00:00:00-08:00</th>\n",
       "      <td>0.000000</td>\n",
       "      <td>1000504</td>\n",
       "      <td>2017-02-13</td>\n",
       "    </tr>\n",
       "    <tr>\n",
       "      <th>2017-02-20 00:00:00-08:00</th>\n",
       "      <td>3378.588737</td>\n",
       "      <td>1000504</td>\n",
       "      <td>2017-02-20</td>\n",
       "    </tr>\n",
       "    <tr>\n",
       "      <th>2017-02-20 00:00:00-08:00</th>\n",
       "      <td>3378.588737</td>\n",
       "      <td>1000505</td>\n",
       "      <td>2017-02-20</td>\n",
       "    </tr>\n",
       "    <tr>\n",
       "      <th>2017-01-16 00:00:00-08:00</th>\n",
       "      <td>6136.096728</td>\n",
       "      <td>1000506</td>\n",
       "      <td>2017-01-16</td>\n",
       "    </tr>\n",
       "    <tr>\n",
       "      <th>2017-01-23 00:00:00-08:00</th>\n",
       "      <td>0.000000</td>\n",
       "      <td>1000506</td>\n",
       "      <td>2017-01-23</td>\n",
       "    </tr>\n",
       "    <tr>\n",
       "      <th>2017-01-30 00:00:00-08:00</th>\n",
       "      <td>0.000000</td>\n",
       "      <td>1000506</td>\n",
       "      <td>2017-01-30</td>\n",
       "    </tr>\n",
       "    <tr>\n",
       "      <th>2017-02-06 00:00:00-08:00</th>\n",
       "      <td>4892.304466</td>\n",
       "      <td>1000506</td>\n",
       "      <td>2017-02-06</td>\n",
       "    </tr>\n",
       "    <tr>\n",
       "      <th>2017-02-13 00:00:00-08:00</th>\n",
       "      <td>9753.643696</td>\n",
       "      <td>1000506</td>\n",
       "      <td>2017-02-13</td>\n",
       "    </tr>\n",
       "    <tr>\n",
       "      <th>...</th>\n",
       "      <td>...</td>\n",
       "      <td>...</td>\n",
       "      <td>...</td>\n",
       "    </tr>\n",
       "    <tr>\n",
       "      <th>2017-01-23 00:00:00-08:00</th>\n",
       "      <td>0.000000</td>\n",
       "      <td>1000510</td>\n",
       "      <td>2017-01-23</td>\n",
       "    </tr>\n",
       "    <tr>\n",
       "      <th>2017-01-30 00:00:00-08:00</th>\n",
       "      <td>0.000000</td>\n",
       "      <td>1000510</td>\n",
       "      <td>2017-01-30</td>\n",
       "    </tr>\n",
       "    <tr>\n",
       "      <th>2017-02-06 00:00:00-08:00</th>\n",
       "      <td>9319.484600</td>\n",
       "      <td>1000510</td>\n",
       "      <td>2017-02-06</td>\n",
       "    </tr>\n",
       "    <tr>\n",
       "      <th>2017-01-16 00:00:00-08:00</th>\n",
       "      <td>3933.032527</td>\n",
       "      <td>1000511</td>\n",
       "      <td>2017-01-16</td>\n",
       "    </tr>\n",
       "    <tr>\n",
       "      <th>2017-01-23 00:00:00-08:00</th>\n",
       "      <td>0.000000</td>\n",
       "      <td>1000511</td>\n",
       "      <td>2017-01-23</td>\n",
       "    </tr>\n",
       "    <tr>\n",
       "      <th>2017-01-30 00:00:00-08:00</th>\n",
       "      <td>0.000000</td>\n",
       "      <td>1000511</td>\n",
       "      <td>2017-01-30</td>\n",
       "    </tr>\n",
       "    <tr>\n",
       "      <th>2017-02-06 00:00:00-08:00</th>\n",
       "      <td>0.000000</td>\n",
       "      <td>1000511</td>\n",
       "      <td>2017-02-06</td>\n",
       "    </tr>\n",
       "    <tr>\n",
       "      <th>2017-02-13 00:00:00-08:00</th>\n",
       "      <td>6497.430144</td>\n",
       "      <td>1000511</td>\n",
       "      <td>2017-02-13</td>\n",
       "    </tr>\n",
       "    <tr>\n",
       "      <th>2017-02-20 00:00:00-08:00</th>\n",
       "      <td>8965.639804</td>\n",
       "      <td>1000511</td>\n",
       "      <td>2017-02-20</td>\n",
       "    </tr>\n",
       "    <tr>\n",
       "      <th>2017-02-27 00:00:00-08:00</th>\n",
       "      <td>9358.440401</td>\n",
       "      <td>1000511</td>\n",
       "      <td>2017-02-27</td>\n",
       "    </tr>\n",
       "    <tr>\n",
       "      <th>2017-02-06 00:00:00-08:00</th>\n",
       "      <td>5791.563854</td>\n",
       "      <td>1000512</td>\n",
       "      <td>2017-02-06</td>\n",
       "    </tr>\n",
       "    <tr>\n",
       "      <th>2017-02-13 00:00:00-08:00</th>\n",
       "      <td>3333.136607</td>\n",
       "      <td>1000512</td>\n",
       "      <td>2017-02-13</td>\n",
       "    </tr>\n",
       "    <tr>\n",
       "      <th>2017-01-16 00:00:00-08:00</th>\n",
       "      <td>2824.020308</td>\n",
       "      <td>1000513</td>\n",
       "      <td>2017-01-16</td>\n",
       "    </tr>\n",
       "    <tr>\n",
       "      <th>2017-01-23 00:00:00-08:00</th>\n",
       "      <td>0.000000</td>\n",
       "      <td>1000513</td>\n",
       "      <td>2017-01-23</td>\n",
       "    </tr>\n",
       "    <tr>\n",
       "      <th>2017-01-30 00:00:00-08:00</th>\n",
       "      <td>0.000000</td>\n",
       "      <td>1000513</td>\n",
       "      <td>2017-01-30</td>\n",
       "    </tr>\n",
       "    <tr>\n",
       "      <th>2017-02-06 00:00:00-08:00</th>\n",
       "      <td>8171.258416</td>\n",
       "      <td>1000513</td>\n",
       "      <td>2017-02-06</td>\n",
       "    </tr>\n",
       "    <tr>\n",
       "      <th>2017-01-16 00:00:00-08:00</th>\n",
       "      <td>6136.096728</td>\n",
       "      <td>1000514</td>\n",
       "      <td>2017-01-16</td>\n",
       "    </tr>\n",
       "    <tr>\n",
       "      <th>2017-01-23 00:00:00-08:00</th>\n",
       "      <td>0.000000</td>\n",
       "      <td>1000514</td>\n",
       "      <td>2017-01-23</td>\n",
       "    </tr>\n",
       "    <tr>\n",
       "      <th>2017-01-30 00:00:00-08:00</th>\n",
       "      <td>0.000000</td>\n",
       "      <td>1000514</td>\n",
       "      <td>2017-01-30</td>\n",
       "    </tr>\n",
       "    <tr>\n",
       "      <th>2017-02-06 00:00:00-08:00</th>\n",
       "      <td>5791.563854</td>\n",
       "      <td>1000514</td>\n",
       "      <td>2017-02-06</td>\n",
       "    </tr>\n",
       "    <tr>\n",
       "      <th>2017-02-13 00:00:00-08:00</th>\n",
       "      <td>3118.447136</td>\n",
       "      <td>1000515</td>\n",
       "      <td>2017-02-13</td>\n",
       "    </tr>\n",
       "    <tr>\n",
       "      <th>2017-02-13 00:00:00-08:00</th>\n",
       "      <td>3118.447136</td>\n",
       "      <td>1000517</td>\n",
       "      <td>2017-02-13</td>\n",
       "    </tr>\n",
       "    <tr>\n",
       "      <th>2017-02-20 00:00:00-08:00</th>\n",
       "      <td>8953.432035</td>\n",
       "      <td>1000518</td>\n",
       "      <td>2017-02-20</td>\n",
       "    </tr>\n",
       "    <tr>\n",
       "      <th>2017-01-02 00:00:00-08:00</th>\n",
       "      <td>1416.877163</td>\n",
       "      <td>1000519</td>\n",
       "      <td>2017-01-02</td>\n",
       "    </tr>\n",
       "    <tr>\n",
       "      <th>2017-01-09 00:00:00-08:00</th>\n",
       "      <td>0.000000</td>\n",
       "      <td>1000519</td>\n",
       "      <td>2017-01-09</td>\n",
       "    </tr>\n",
       "    <tr>\n",
       "      <th>2017-01-16 00:00:00-08:00</th>\n",
       "      <td>0.000000</td>\n",
       "      <td>1000519</td>\n",
       "      <td>2017-01-16</td>\n",
       "    </tr>\n",
       "    <tr>\n",
       "      <th>2017-01-23 00:00:00-08:00</th>\n",
       "      <td>0.000000</td>\n",
       "      <td>1000519</td>\n",
       "      <td>2017-01-23</td>\n",
       "    </tr>\n",
       "    <tr>\n",
       "      <th>2017-01-30 00:00:00-08:00</th>\n",
       "      <td>0.000000</td>\n",
       "      <td>1000519</td>\n",
       "      <td>2017-01-30</td>\n",
       "    </tr>\n",
       "    <tr>\n",
       "      <th>2017-02-06 00:00:00-08:00</th>\n",
       "      <td>0.000000</td>\n",
       "      <td>1000519</td>\n",
       "      <td>2017-02-06</td>\n",
       "    </tr>\n",
       "    <tr>\n",
       "      <th>2017-02-13 00:00:00-08:00</th>\n",
       "      <td>11294.892806</td>\n",
       "      <td>1000519</td>\n",
       "      <td>2017-02-13</td>\n",
       "    </tr>\n",
       "  </tbody>\n",
       "</table>\n",
       "<p>78 rows × 3 columns</p>\n",
       "</div>"
      ],
      "text/plain": [
       "                                   dist  vehicle_id week_start_date\n",
       "datetime                                                           \n",
       "2017-01-02 00:00:00-08:00   5989.721004     1000500      2017-01-02\n",
       "2017-01-09 00:00:00-08:00      0.000000     1000500      2017-01-09\n",
       "2017-01-16 00:00:00-08:00      0.000000     1000500      2017-01-16\n",
       "2017-01-23 00:00:00-08:00      0.000000     1000500      2017-01-23\n",
       "2017-01-30 00:00:00-08:00      0.000000     1000500      2017-01-30\n",
       "2017-02-06 00:00:00-08:00      0.000000     1000500      2017-02-06\n",
       "2017-02-13 00:00:00-08:00   3118.447136     1000500      2017-02-13\n",
       "2017-02-06 00:00:00-08:00   2463.625177     1000501      2017-02-06\n",
       "2017-01-16 00:00:00-08:00   6261.216726     1000502      2017-01-16\n",
       "2017-01-23 00:00:00-08:00      0.000000     1000502      2017-01-23\n",
       "2017-01-30 00:00:00-08:00      0.000000     1000502      2017-01-30\n",
       "2017-02-06 00:00:00-08:00   8171.258416     1000502      2017-02-06\n",
       "2017-02-13 00:00:00-08:00      0.000000     1000502      2017-02-13\n",
       "2017-02-20 00:00:00-08:00   9253.921127     1000502      2017-02-20\n",
       "2017-02-27 00:00:00-08:00   8995.091108     1000502      2017-02-27\n",
       "2017-02-13 00:00:00-08:00   1502.173519     1000503      2017-02-13\n",
       "2017-01-02 00:00:00-08:00   3508.084701     1000504      2017-01-02\n",
       "2017-01-09 00:00:00-08:00      0.000000     1000504      2017-01-09\n",
       "2017-01-16 00:00:00-08:00      0.000000     1000504      2017-01-16\n",
       "2017-01-23 00:00:00-08:00      0.000000     1000504      2017-01-23\n",
       "2017-01-30 00:00:00-08:00      0.000000     1000504      2017-01-30\n",
       "2017-02-06 00:00:00-08:00      0.000000     1000504      2017-02-06\n",
       "2017-02-13 00:00:00-08:00      0.000000     1000504      2017-02-13\n",
       "2017-02-20 00:00:00-08:00   3378.588737     1000504      2017-02-20\n",
       "2017-02-20 00:00:00-08:00   3378.588737     1000505      2017-02-20\n",
       "2017-01-16 00:00:00-08:00   6136.096728     1000506      2017-01-16\n",
       "2017-01-23 00:00:00-08:00      0.000000     1000506      2017-01-23\n",
       "2017-01-30 00:00:00-08:00      0.000000     1000506      2017-01-30\n",
       "2017-02-06 00:00:00-08:00   4892.304466     1000506      2017-02-06\n",
       "2017-02-13 00:00:00-08:00   9753.643696     1000506      2017-02-13\n",
       "...                                 ...         ...             ...\n",
       "2017-01-23 00:00:00-08:00      0.000000     1000510      2017-01-23\n",
       "2017-01-30 00:00:00-08:00      0.000000     1000510      2017-01-30\n",
       "2017-02-06 00:00:00-08:00   9319.484600     1000510      2017-02-06\n",
       "2017-01-16 00:00:00-08:00   3933.032527     1000511      2017-01-16\n",
       "2017-01-23 00:00:00-08:00      0.000000     1000511      2017-01-23\n",
       "2017-01-30 00:00:00-08:00      0.000000     1000511      2017-01-30\n",
       "2017-02-06 00:00:00-08:00      0.000000     1000511      2017-02-06\n",
       "2017-02-13 00:00:00-08:00   6497.430144     1000511      2017-02-13\n",
       "2017-02-20 00:00:00-08:00   8965.639804     1000511      2017-02-20\n",
       "2017-02-27 00:00:00-08:00   9358.440401     1000511      2017-02-27\n",
       "2017-02-06 00:00:00-08:00   5791.563854     1000512      2017-02-06\n",
       "2017-02-13 00:00:00-08:00   3333.136607     1000512      2017-02-13\n",
       "2017-01-16 00:00:00-08:00   2824.020308     1000513      2017-01-16\n",
       "2017-01-23 00:00:00-08:00      0.000000     1000513      2017-01-23\n",
       "2017-01-30 00:00:00-08:00      0.000000     1000513      2017-01-30\n",
       "2017-02-06 00:00:00-08:00   8171.258416     1000513      2017-02-06\n",
       "2017-01-16 00:00:00-08:00   6136.096728     1000514      2017-01-16\n",
       "2017-01-23 00:00:00-08:00      0.000000     1000514      2017-01-23\n",
       "2017-01-30 00:00:00-08:00      0.000000     1000514      2017-01-30\n",
       "2017-02-06 00:00:00-08:00   5791.563854     1000514      2017-02-06\n",
       "2017-02-13 00:00:00-08:00   3118.447136     1000515      2017-02-13\n",
       "2017-02-13 00:00:00-08:00   3118.447136     1000517      2017-02-13\n",
       "2017-02-20 00:00:00-08:00   8953.432035     1000518      2017-02-20\n",
       "2017-01-02 00:00:00-08:00   1416.877163     1000519      2017-01-02\n",
       "2017-01-09 00:00:00-08:00      0.000000     1000519      2017-01-09\n",
       "2017-01-16 00:00:00-08:00      0.000000     1000519      2017-01-16\n",
       "2017-01-23 00:00:00-08:00      0.000000     1000519      2017-01-23\n",
       "2017-01-30 00:00:00-08:00      0.000000     1000519      2017-01-30\n",
       "2017-02-06 00:00:00-08:00      0.000000     1000519      2017-02-06\n",
       "2017-02-13 00:00:00-08:00  11294.892806     1000519      2017-02-13\n",
       "\n",
       "[78 rows x 3 columns]"
      ]
     },
     "execution_count": 112,
     "metadata": {},
     "output_type": "execute_result"
    }
   ],
   "source": [
    "vehicle_wise_weekly_agg(merged12,['dist'])"
   ]
  },
  {
   "cell_type": "code",
   "execution_count": null,
   "metadata": {},
   "outputs": [],
   "source": [
    "['vehicle_id',\n",
    "'week_start_date',\n",
    "'total_light_rain_driving_km',\n",
    "'total_light_freezing_rain_driving_km',\n",
    "'total_light_snow_driving_km',\n",
    "'total_moderate_rain_driving_km',\n",
    "'total_moderate_freezing_rain_driving_km',\n",
    "'total_moderate_snow_driving_km',\n",
    "'total_heavy_rain_driving_km'\n",
    "]"
   ]
  },
  {
   "cell_type": "code",
   "execution_count": 123,
   "metadata": {},
   "outputs": [
    {
     "data": {
      "text/plain": [
       "array([12331.56003089,     0.        , 41078.66585871,     0.        ,\n",
       "           0.        , 44601.05878201, 41736.61818056, 59091.79258327,\n",
       "       45755.00010919])"
      ]
     },
     "execution_count": 123,
     "metadata": {},
     "output_type": "execute_result"
    }
   ],
   "source": [
    "temp=merged12.set_index(pd.DatetimeIndex(merged12['datetime']))\n",
    "temp=temp[temp['rain']].resample(\"W-Mon\")['dist'].sum().values\n",
    "temp"
   ]
  },
  {
   "cell_type": "code",
   "execution_count": null,
   "metadata": {},
   "outputs": [],
   "source": [
    "from tqdm import tqdm\n",
    "def vehicle_wise_weekly_agg(df,agg_cols):\n",
    "    grouped=df.groupby('vehicle_id')\n",
    "    res_df=[]\n",
    "    for vehicle_id,df in tqdm(grouped,desc=\"combining-result\"):\n",
    "        \n",
    "        temp=df.set_index(pd.DatetimeIndex(df['datetime']))\n",
    "        temp=temp.resample(\"W-Mon\")[agg_cols].sum()\n",
    "        temp['vehicle_id']=vehicle_id\n",
    "        temp['week_start_date']=temp.index.date\n",
    "        res_df.append(temp)\n",
    "\n",
    "    return pd.concat(res_df).sort_values(by=['vehicle_id',\"week_start_date\"])\n",
    "\n"
   ]
  },
  {
   "cell_type": "code",
   "execution_count": null,
   "metadata": {},
   "outputs": [],
   "source": []
  }
 ],
 "metadata": {
  "kernelspec": {
   "display_name": "Python 3",
   "language": "python",
   "name": "python3"
  },
  "language_info": {
   "codemirror_mode": {
    "name": "ipython",
    "version": 3
   },
   "file_extension": ".py",
   "mimetype": "text/x-python",
   "name": "python",
   "nbconvert_exporter": "python",
   "pygments_lexer": "ipython3",
   "version": "3.7.1"
  }
 },
 "nbformat": 4,
 "nbformat_minor": 2
}
